{
 "cells": [
  {
   "cell_type": "code",
   "execution_count": null,
   "metadata": {},
   "outputs": [],
   "source": [
    "import time\n",
    "from selenium import webdriver\n",
    "from selenium.webdriver.common.by import By\n",
    "from selenium.webdriver.common.keys import Keys\n",
    "from selenium.webdriver.chrome.service import Service\n",
    "from webdriver_manager.chrome import ChromeDriverManager\n",
    "import pyperclip  # 클립보드 사용을 위한 라이브러리\n",
    "\n",
    "# 네이버 로그인 정보 설정\n",
    "naver_id = \"yunjadong\"\n",
    "naver_pw = \"test1234\"\n",
    "\n",
    "# 웹드라이버 설정\n",
    "options = webdriver.ChromeOptions()\n",
    "# options.add_argument('--headless')  # 필요시 헤드리스 모드 활성화\n",
    "options.add_argument('--no-sandbox')\n",
    "options.add_argument('--disable-dev-shm-usage')\n",
    "\n",
    "# 웹드라이버 초기화\n",
    "driver = webdriver.Chrome(service=Service(ChromeDriverManager().install()), options=options)\n",
    "\n",
    "try:\n",
    "    # 네이버 로그인 페이지 접속\n",
    "    driver.get('https://nid.naver.com/nidlogin.login')\n",
    "    time.sleep(2)  # 페이지 로딩 대기\n",
    "    \n",
    "    # 아이디 입력 필드 찾기\n",
    "    id_field = driver.find_element(By.ID, 'id')\n",
    "    id_field.click()\n",
    "    \n",
    "    # 클립보드에 아이디 복사 후 붙여넣기\n",
    "    pyperclip.copy(naver_id)\n",
    "    id_field.send_keys(Keys.CONTROL, 'v')\n",
    "    time.sleep(1)\n",
    "    \n",
    "    # 비밀번호 입력 필드 찾기\n",
    "    pw_field = driver.find_element(By.ID, 'pw')\n",
    "    pw_field.click()\n",
    "    \n",
    "    # 클립보드에 비밀번호 복사 후 붙여넣기\n",
    "    pyperclip.copy(naver_pw)\n",
    "    pw_field.send_keys(Keys.CONTROL, 'v')\n",
    "    time.sleep(1)\n",
    "    \n",
    "    # 로그인 버튼 클릭\n",
    "    login_button = driver.find_element(By.ID, 'log.login')\n",
    "    login_button.click()\n",
    "    \n",
    "    # 로그인 완료 대기\n",
    "    time.sleep(3)\n",
    "    \n",
    "    print(\"네이버 로그인 성공!\")\n",
    "    \n",
    "    # 여기에 로그인 후 수행할 작업 추가\n",
    "    \n",
    "except Exception as e:\n",
    "    print(f\"로그인 중 오류 발생: {e}\")\n",
    "    \n",
    "#finally:\n",
    "    # 브라우저 종료\n",
    "    #driver.quit()\n"
   ]
  },
  {
   "cell_type": "code",
   "execution_count": 8,
   "metadata": {},
   "outputs": [],
   "source": [
    "# 네이버 카페 게시판 글쓰기 페이지로 이동\n",
    "driver.get('https://cafe.naver.com/ca-fe/cafes/30883250/menus/1/articles/write?boardType=L')\n",
    "time.sleep(2)  # 페이지 로딩 대기\n"
   ]
  },
  {
   "cell_type": "code",
   "execution_count": 11,
   "metadata": {},
   "outputs": [],
   "source": [
    "# 제목 입력 필드 찾기\n",
    "title_field = driver.find_element(By.CSS_SELECTOR, 'textarea.textarea_input')\n",
    "title_field.click()\n",
    "\n",
    "# 제목 입력\n",
    "title_field.send_keys(\"여기에 제목을 입력하세요.\")\n"
   ]
  },
  {
   "cell_type": "code",
   "execution_count": null,
   "metadata": {},
   "outputs": [],
   "source": [
    "from selenium.webdriver.common.action_chains import ActionChains\n",
    "\n",
    "# 내용 입력 필드 찾기\n",
    "content_field = driver.find_element(By.CSS_SELECTOR, 'span.se-placeholder.__se_placeholder.se-ff-system.se-fs15.se-placeholder-focused')\n",
    "content_field.click()\n",
    "\n",
    "# ActionChains를 이용하여 내용 입력\n",
    "actions = ActionChains(driver)\n",
    "actions.send_keys(\"여기에 내용을 입력하세요.\").perform()\n"
   ]
  },
  {
   "cell_type": "code",
   "execution_count": 20,
   "metadata": {},
   "outputs": [],
   "source": [
    "# 사진 추가 버튼 클릭\n",
    "image_button = driver.find_element(By.CSS_SELECTOR, 'button[data-name=\"image\"]')\n",
    "image_button.click()\n",
    "time.sleep(2)  # 2초 기다리기\n",
    "\n",
    "import pyautogui\n",
    "import time\n",
    "import pyperclip\n",
    "\n",
    "# 클립보드에 파일 경로 복사\n",
    "pyperclip.copy(r'C:\\Users\\Yunjadong\\Pictures\\123.jpg.png')\n",
    "time.sleep(1)  # 잠시 대기\n",
    "\n",
    "# Ctrl + V를 눌러서 붙여넣기\n",
    "pyautogui.hotkey('ctrl', 'v')\n",
    "time.sleep(1)  # 잠시 대기\n",
    "\n",
    "# 엔터 키를 눌러서 확인\n",
    "pyautogui.press('enter')\n"
   ]
  },
  {
   "cell_type": "code",
   "execution_count": 29,
   "metadata": {},
   "outputs": [],
   "source": [
    "# 장소 추가 버튼 클릭\n",
    "location_button = driver.find_element(By.CSS_SELECTOR, 'button[data-name=\"map\"]')\n",
    "location_button.click()\n",
    "time.sleep(1)\n",
    "\n",
    "location_input = driver.find_element(By.CSS_SELECTOR, 'input[placeholder=\"장소명을 입력하세요.\"]')\n",
    "location_input.send_keys(\"서울시청\")\n",
    "location_input.send_keys(Keys.ENTER)\n",
    "time.sleep(2)\n",
    "\n"
   ]
  },
  {
   "cell_type": "code",
   "execution_count": 30,
   "metadata": {},
   "outputs": [
    {
     "name": "stdout",
     "output_type": "stream",
     "text": [
      "서울특별시청 장소가 성공적으로 추가되었습니다.\n"
     ]
    }
   ],
   "source": [
    "# 검색 결과에서 첫 번째 항목 선택\n",
    "try:\n",
    "    # 첫 번째 검색 결과 항목 찾기 (첫 번째 항목은 se-is-highlight 클래스가 없을 수 있음)\n",
    "    first_result = driver.find_element(By.CSS_SELECTOR, 'li.se-place-map-search-result-item:first-child')\n",
    "    first_result.click()\n",
    "    time.sleep(1)\n",
    "    \n",
    "    # 첫 번째 항목의 추가 버튼 클릭\n",
    "    add_button = first_result.find_element(By.CSS_SELECTOR, 'button.se-place-add-button')\n",
    "    add_button.click()\n",
    "    \n",
    "    print(\"서울특별시청 장소가 성공적으로 추가되었습니다.\")\n",
    "    time.sleep(2)  # 추가 작업 완료 대기\n",
    "    \n",
    "except Exception as e:\n",
    "    print(f\"장소 추가 중 오류 발생: {e}\")\n",
    "    # 오류 발생 시 스크린샷 저장 (선택적)\n",
    "    driver.save_screenshot(\"장소추가_오류.png\")\n"
   ]
  },
  {
   "cell_type": "code",
   "execution_count": 31,
   "metadata": {},
   "outputs": [
    {
     "name": "stdout",
     "output_type": "stream",
     "text": [
      "확인 버튼이 성공적으로 클릭되었습니다.\n"
     ]
    }
   ],
   "source": [
    "# 확인 버튼 클릭\n",
    "try:\n",
    "    confirm_button = driver.find_element(By.CSS_SELECTOR, 'button.se-popup-button.se-popup-button-confirm')\n",
    "    confirm_button.click()\n",
    "    print(\"확인 버튼이 성공적으로 클릭되었습니다.\")\n",
    "    time.sleep(2)  # 버튼 클릭 후 대기\n",
    "except Exception as e:\n",
    "    print(f\"확인 버튼 클릭 중 오류 발생: {e}\")\n",
    "    # 오류 발생 시 스크린샷 저장\n",
    "    driver.save_screenshot(\"확인버튼_오류.png\")\n"
   ]
  },
  {
   "cell_type": "code",
   "execution_count": 32,
   "metadata": {},
   "outputs": [
    {
     "name": "stdout",
     "output_type": "stream",
     "text": [
      "임시등록 버튼이 성공적으로 클릭되었습니다.\n"
     ]
    }
   ],
   "source": [
    "# 임시등록 버튼 클릭\n",
    "try:\n",
    "    temp_save_button = driver.find_element(By.CSS_SELECTOR, 'button.btn_temp_save')\n",
    "    temp_save_button.click()\n",
    "    print(\"임시등록 버튼이 성공적으로 클릭되었습니다.\")\n",
    "    time.sleep(2)  # 버튼 클릭 후 대기\n",
    "except Exception as e:\n",
    "    print(f\"임시등록 버튼 클릭 중 오류 발생: {e}\")\n",
    "    # 오류 발생 시 스크린샷 저장\n",
    "    driver.save_screenshot(\"임시등록버튼_오류.png\")\n"
   ]
  }
 ],
 "metadata": {
  "kernelspec": {
   "display_name": "Python 3",
   "language": "python",
   "name": "python3"
  },
  "language_info": {
   "codemirror_mode": {
    "name": "ipython",
    "version": 3
   },
   "file_extension": ".py",
   "mimetype": "text/x-python",
   "name": "python",
   "nbconvert_exporter": "python",
   "pygments_lexer": "ipython3",
   "version": "3.13.1"
  }
 },
 "nbformat": 4,
 "nbformat_minor": 2
}
